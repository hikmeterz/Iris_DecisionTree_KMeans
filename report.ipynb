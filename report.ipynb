{
 "cells": [
  {
   "cell_type": "code",
   "execution_count": 1,
   "metadata": {},
   "outputs": [],
   "source": [
    "import pandas as pd"
   ]
  },
  {
   "cell_type": "code",
   "execution_count": 2,
   "metadata": {},
   "outputs": [],
   "source": [
    "import numpy as np \n",
    "import matplotlib.pyplot as plt\n",
    "import seaborn as sns \n"
   ]
  },
  {
   "cell_type": "code",
   "execution_count": 3,
   "metadata": {},
   "outputs": [],
   "source": [
    "data = 'Iris.csv'\n",
    "\n",
    "df = pd.read_csv(data)"
   ]
  },
  {
   "cell_type": "code",
   "execution_count": 4,
   "metadata": {},
   "outputs": [],
   "source": [
    "from sklearn.model_selection import train_test_split"
   ]
  },
  {
   "cell_type": "code",
   "execution_count": 7,
   "metadata": {},
   "outputs": [],
   "source": [
    "X = df\n",
    "\n",
    "y = df['Species']"
   ]
  },
  {
   "cell_type": "code",
   "execution_count": 8,
   "metadata": {},
   "outputs": [],
   "source": [
    "X_train, X_test, y_train, y_test = train_test_split(X, y, test_size=0.2, random_state=42)"
   ]
  },
  {
   "cell_type": "code",
   "execution_count": 39,
   "metadata": {},
   "outputs": [],
   "source": [
    "from kmeans import KMeansClusterClassifier"
   ]
  },
  {
   "cell_type": "code",
   "execution_count": 41,
   "metadata": {},
   "outputs": [
    {
     "ename": "NameError",
     "evalue": "name 'elbow_method' is not defined",
     "output_type": "error",
     "traceback": [
      "\u001b[1;31m---------------------------------------------------------------------------\u001b[0m",
      "\u001b[1;31mNameError\u001b[0m                                 Traceback (most recent call last)",
      "\u001b[1;32mc:\\Users\\HP\\Desktop\\470_Son\\470_Odev3\\report.ipynb Cell 8\u001b[0m in \u001b[0;36m2\n\u001b[0;32m      <a href='vscode-notebook-cell:/c%3A/Users/HP/Desktop/470_Son/470_Odev3/report.ipynb#W6sZmlsZQ%3D%3D?line=0'>1</a>\u001b[0m max_clusters \u001b[39m=\u001b[39m \u001b[39m10\u001b[39m\n\u001b[1;32m----> <a href='vscode-notebook-cell:/c%3A/Users/HP/Desktop/470_Son/470_Odev3/report.ipynb#W6sZmlsZQ%3D%3D?line=1'>2</a>\u001b[0m ssd_values \u001b[39m=\u001b[39m elbow_method(X_train, max_clusters)\n",
      "\u001b[1;31mNameError\u001b[0m: name 'elbow_method' is not defined"
     ]
    }
   ],
   "source": [
    "max_clusters = 10\n",
    "ssd_values = elbow_method(X_train, max_clusters)"
   ]
  },
  {
   "cell_type": "code",
   "execution_count": 33,
   "metadata": {},
   "outputs": [
    {
     "ename": "TypeError",
     "evalue": "Population must be a sequence or set.  For dicts, use list(d).",
     "output_type": "error",
     "traceback": [
      "\u001b[1;31m---------------------------------------------------------------------------\u001b[0m",
      "\u001b[1;31mTypeError\u001b[0m                                 Traceback (most recent call last)",
      "\u001b[1;32mc:\\Users\\HP\\Desktop\\470_Son\\470_Odev3\\report.ipynb Cell 9\u001b[0m in \u001b[0;36m4\n\u001b[0;32m      <a href='vscode-notebook-cell:/c%3A/Users/HP/Desktop/470_Son/470_Odev3/report.ipynb#X11sZmlsZQ%3D%3D?line=1'>2</a>\u001b[0m max_clusters \u001b[39m=\u001b[39m \u001b[39m10\u001b[39m\n\u001b[0;32m      <a href='vscode-notebook-cell:/c%3A/Users/HP/Desktop/470_Son/470_Odev3/report.ipynb#X11sZmlsZQ%3D%3D?line=2'>3</a>\u001b[0m kmeans_classifier \u001b[39m=\u001b[39m KMeansClusterClassifier(n_clusters\u001b[39m=\u001b[39m\u001b[39m3\u001b[39m)  \u001b[39m# Adjust n_clusters as needed\u001b[39;00m\n\u001b[1;32m----> <a href='vscode-notebook-cell:/c%3A/Users/HP/Desktop/470_Son/470_Odev3/report.ipynb#X11sZmlsZQ%3D%3D?line=3'>4</a>\u001b[0m elbow_data \u001b[39m=\u001b[39m kmeans_classifier\u001b[39m.\u001b[39;49melbow_method(X_train, max_clusters)\n\u001b[0;32m      <a href='vscode-notebook-cell:/c%3A/Users/HP/Desktop/470_Son/470_Odev3/report.ipynb#X11sZmlsZQ%3D%3D?line=6'>7</a>\u001b[0m \u001b[39m# Plot the elbow method results\u001b[39;00m\n\u001b[0;32m      <a href='vscode-notebook-cell:/c%3A/Users/HP/Desktop/470_Son/470_Odev3/report.ipynb#X11sZmlsZQ%3D%3D?line=7'>8</a>\u001b[0m \u001b[39mimport\u001b[39;00m \u001b[39mmatplotlib\u001b[39;00m\u001b[39m.\u001b[39;00m\u001b[39mpyplot\u001b[39;00m \u001b[39mas\u001b[39;00m \u001b[39mplt\u001b[39;00m\n",
      "File \u001b[1;32mc:\\Users\\HP\\Desktop\\470_Son\\470_Odev3\\kmeans.py:43\u001b[0m, in \u001b[0;36mKMeansClusterClassifier.elbow_method\u001b[1;34m(self, X, max_clusters)\u001b[0m\n\u001b[0;32m     41\u001b[0m \u001b[39mfor\u001b[39;00m n_clusters \u001b[39min\u001b[39;00m \u001b[39mrange\u001b[39m(\u001b[39m1\u001b[39m, max_clusters \u001b[39m+\u001b[39m \u001b[39m1\u001b[39m):\n\u001b[0;32m     42\u001b[0m     \u001b[39mself\u001b[39m\u001b[39m.\u001b[39mn_clusters \u001b[39m=\u001b[39m n_clusters\n\u001b[1;32m---> 43\u001b[0m     \u001b[39mself\u001b[39;49m\u001b[39m.\u001b[39;49mfit(X, [])  \n\u001b[0;32m     44\u001b[0m     inertia \u001b[39m=\u001b[39m \u001b[39mself\u001b[39m\u001b[39m.\u001b[39m_calculate_inertia(X)\n\u001b[0;32m     45\u001b[0m     squared_distances\u001b[39m.\u001b[39mappend(inertia)\n",
      "File \u001b[1;32mc:\\Users\\HP\\Desktop\\470_Son\\470_Odev3\\kmeans.py:11\u001b[0m, in \u001b[0;36mKMeansClusterClassifier.fit\u001b[1;34m(self, X, y)\u001b[0m\n\u001b[0;32m      9\u001b[0m \u001b[39mdef\u001b[39;00m \u001b[39mfit\u001b[39m(\u001b[39mself\u001b[39m, X, y):\n\u001b[1;32m---> 11\u001b[0m     \u001b[39mself\u001b[39m\u001b[39m.\u001b[39mcentroids \u001b[39m=\u001b[39m random\u001b[39m.\u001b[39;49msample(X, \u001b[39mself\u001b[39;49m\u001b[39m.\u001b[39;49mn_clusters)\n\u001b[0;32m     13\u001b[0m     prev_centroids \u001b[39m=\u001b[39m [[] \u001b[39mfor\u001b[39;00m _ \u001b[39min\u001b[39;00m \u001b[39mrange\u001b[39m(\u001b[39mself\u001b[39m\u001b[39m.\u001b[39mn_clusters)]\n\u001b[0;32m     14\u001b[0m     \u001b[39mwhile\u001b[39;00m \u001b[39mself\u001b[39m\u001b[39m.\u001b[39m_distance(prev_centroids, \u001b[39mself\u001b[39m\u001b[39m.\u001b[39mcentroids) \u001b[39m!=\u001b[39m \u001b[39m0\u001b[39m:\n",
      "File \u001b[1;32mc:\\Users\\HP\\AppData\\Local\\Programs\\Python\\Python38\\lib\\random.py:359\u001b[0m, in \u001b[0;36mRandom.sample\u001b[1;34m(self, population, k)\u001b[0m\n\u001b[0;32m    357\u001b[0m     population \u001b[39m=\u001b[39m \u001b[39mtuple\u001b[39m(population)\n\u001b[0;32m    358\u001b[0m \u001b[39mif\u001b[39;00m \u001b[39mnot\u001b[39;00m \u001b[39misinstance\u001b[39m(population, _Sequence):\n\u001b[1;32m--> 359\u001b[0m     \u001b[39mraise\u001b[39;00m \u001b[39mTypeError\u001b[39;00m(\u001b[39m\"\u001b[39m\u001b[39mPopulation must be a sequence or set.  For dicts, use list(d).\u001b[39m\u001b[39m\"\u001b[39m)\n\u001b[0;32m    360\u001b[0m randbelow \u001b[39m=\u001b[39m \u001b[39mself\u001b[39m\u001b[39m.\u001b[39m_randbelow\n\u001b[0;32m    361\u001b[0m n \u001b[39m=\u001b[39m \u001b[39mlen\u001b[39m(population)\n",
      "\u001b[1;31mTypeError\u001b[0m: Population must be a sequence or set.  For dicts, use list(d)."
     ]
    }
   ],
   "source": [
    "\n",
    "plt.plot(range(1, max_clusters+1), ssd_values, marker='o')\n",
    "plt.xlabel('Number of Clusters')\n",
    "plt.ylabel('Sum of Squared Distances')\n",
    "plt.title('Elbow Method')\n",
    "plt.show()"
   ]
  }
 ],
 "metadata": {
  "kernelspec": {
   "display_name": "Python 3",
   "language": "python",
   "name": "python3"
  },
  "language_info": {
   "codemirror_mode": {
    "name": "ipython",
    "version": 3
   },
   "file_extension": ".py",
   "mimetype": "text/x-python",
   "name": "python",
   "nbconvert_exporter": "python",
   "pygments_lexer": "ipython3",
   "version": "3.8.5"
  },
  "orig_nbformat": 4
 },
 "nbformat": 4,
 "nbformat_minor": 2
}
